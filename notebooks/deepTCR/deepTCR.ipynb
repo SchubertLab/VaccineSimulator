{
 "cells": [
  {
   "cell_type": "code",
   "execution_count": null,
   "metadata": {},
   "outputs": [],
   "source": [
    "import sys\n",
    "sys.path.append('../')\n",
    "from DeepTCR.DeepTCR import DeepTCR_U\n",
    "\n",
    "# # Instantiate training object\n",
    "# DTCRU = DeepTCR_U('Tutorial')\n",
    "\n",
    "# #Load Data from directories\n",
    "# DTCRU.Get_Data(directory='../Data/Murine_Antigens',Load_Prev_Data=False,aggregate_by_aa=True,\n",
    "#                aa_column_beta=0,count_column=1,v_beta_column=2,j_beta_column=3)"
   ]
  },
  {
   "cell_type": "code",
   "execution_count": null,
   "metadata": {},
   "outputs": [],
   "source": []
  }
 ],
 "metadata": {
  "kernelspec": {
   "display_name": "deeptcr",
   "language": "python",
   "name": "python3"
  },
  "language_info": {
   "codemirror_mode": {
    "name": "ipython",
    "version": 3
   },
   "file_extension": ".py",
   "mimetype": "text/x-python",
   "name": "python",
   "nbconvert_exporter": "python",
   "pygments_lexer": "ipython3",
   "version": "3.7.12"
  }
 },
 "nbformat": 4,
 "nbformat_minor": 2
}
