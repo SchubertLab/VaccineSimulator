{
 "cells": [
  {
   "cell_type": "code",
   "execution_count": 2,
   "metadata": {},
   "outputs": [],
   "source": [
    "import scanpy as sc\n",
    "import scirpy as ir\n",
    "import pandas as pd\n",
    "import awkward as ak\n",
    "# from sklearn.base import ClassNamePrefixFeaturesOutMixin\n",
    "\n",
    "import warnings\n",
    "warnings.simplefilter(action='ignore', category=FutureWarning)"
   ]
  },
  {
   "cell_type": "code",
   "execution_count": 3,
   "metadata": {},
   "outputs": [
    {
     "data": {
      "text/plain": [
       "AnnData object with n_obs × n_vars = 53907 × 18471\n",
       "    obs: 'is_cell', 'high_confidence', 'multi_chain', 'extra_chains', 'IR_VJ_1_c_call', 'IR_VJ_2_c_call', 'IR_VDJ_1_c_call', 'IR_VDJ_2_c_call', 'IR_VJ_1_consensus_count', 'IR_VJ_2_consensus_count', 'IR_VDJ_1_consensus_count', 'IR_VDJ_2_consensus_count', 'IR_VJ_1_d_call', 'IR_VJ_2_d_call', 'IR_VDJ_1_d_call', 'IR_VDJ_2_d_call', 'IR_VJ_1_duplicate_count', 'IR_VJ_2_duplicate_count', 'IR_VDJ_1_duplicate_count', 'IR_VDJ_2_duplicate_count', 'IR_VJ_1_j_call', 'IR_VJ_2_j_call', 'IR_VDJ_1_j_call', 'IR_VDJ_2_j_call', 'IR_VJ_1_junction', 'IR_VJ_2_junction', 'IR_VDJ_1_junction', 'IR_VDJ_2_junction', 'IR_VJ_1_junction_aa', 'IR_VJ_2_junction_aa', 'IR_VDJ_1_junction_aa', 'IR_VDJ_2_junction_aa', 'IR_VJ_1_locus', 'IR_VJ_2_locus', 'IR_VDJ_1_locus', 'IR_VDJ_2_locus', 'IR_VJ_1_productive', 'IR_VJ_2_productive', 'IR_VDJ_1_productive', 'IR_VDJ_2_productive', 'IR_VJ_1_v_call', 'IR_VJ_2_v_call', 'IR_VDJ_1_v_call', 'IR_VDJ_2_v_call', 'has_ir', 'LTDEMIAQY', 'YTNSFTRGVY', 'YLQPRTFLL', 'RLQSLQTYV', 'VLNDILSRL', 'KIADYNYKL', 'KCYGVSPTK', 'KVFRSSVLH', 'RLFRKSNLK', 'GTHWFVTQR', 'QYIKWPWYI', 'NYNYLYRLF', 'SPRRARSVA', 'FPQSAPHGV', 'QPYRVVVL', 'IYKTPPIKDF', 'C0251_A02', 'C0252_A03', 'C0253_A04', 'C0254_A05', 'C0255_A06', 'C0256_A11', 'C0257_A15', 'C0258_A29', 'C0251_A08', 'C0252_A04', 'C0253_A05', 'C0254_A11', 'C0255_A15', 'C0256_A29', 'C0257_A19', 'C0258_A25', 'sample', 'n_counts', 'log_counts', 'n_genes', 'log_genes', 'mt_frac', 'batch', 'receptor_type', 'receptor_subtype', 'chain_pairing', 'time', 'experiment', 'donor', 'TFEYVSQPFLMDLE', 'ATDSLNNEY', 'CTELKLSDY', 'FLRGRAYGL', 'RAKFKQLL', 'HA1', 'HA2', 'HA3', 'HA4', 'HA5', 'HA6', 'HA7', 'Hu.CD101', 'Hu.CD103', 'Hu.CD105_43A3', 'Hu.CD107a', 'Hu.CD112', 'Hu.CD119', 'Hu.CD11a', 'Hu.CD11b', 'Hu.CD11c', 'Hu.CD122', 'Hu.CD123', 'Hu.CD124', 'Hu.CD127', 'Hu.CD13', 'Hu.CD134', 'Hu.CD137', 'Hu.CD141', 'Hu.CD146', 'Hu.CD14_M5E2', 'Hu.CD152', 'Hu.CD154', 'Hu.CD155', 'Hu.CD158', 'Hu.CD158b', 'Hu.CD158e1', 'Hu.CD16', 'Hu.CD161', 'Hu.CD163', 'Hu.CD169', 'Hu.CD18', 'Hu.CD183', 'Hu.CD185', 'Hu.CD19', 'Hu.CD194', 'Hu.CD195', 'Hu.CD196', 'Hu.CD1c', 'Hu.CD1d', 'Hu.CD2', 'Hu.CD20_2H7', 'Hu.CD21', 'Hu.CD22', 'Hu.CD223', 'Hu.CD224', 'Hu.CD226_11A8', 'Hu.CD23', 'Hu.CD24', 'Hu.CD244', 'Hu.CD25', 'Hu.CD26', 'Hu.CD267', 'Hu.CD268', 'Hu.CD27', 'Hu.CD270', 'Hu.CD272', 'Hu.CD274', 'Hu.CD279', 'Hu.CD28', 'Hu.CD29', 'Hu.CD303', 'Hu.CD31', 'Hu.CD314', 'Hu.CD319', 'Hu.CD32', 'Hu.CD328', 'Hu.CD33', 'Hu.CD335', 'Hu.CD35', 'Hu.CD352', 'Hu.CD36', 'Hu.CD38_HIT2', 'Hu.CD39', 'Hu.CD3_UCHT1', 'Hu.CD40', 'Hu.CD41', 'Hu.CD42b', 'Hu.CD45RA', 'Hu.CD45RO', 'Hu.CD45_HI30', 'Hu.CD47', 'Hu.CD48', 'Hu.CD49a', 'Hu.CD49b', 'Hu.CD49d', 'Hu.CD4_RPA.T4', 'Hu.CD5', 'Hu.CD52', 'Hu.CD54', 'Hu.CD56', 'Hu.CD57', 'Hu.CD58', 'Hu.CD62L', 'Hu.CD62P', 'Hu.CD64', 'Hu.CD69', 'Hu.CD7', 'Hu.CD71', 'Hu.CD73', 'Hu.CD79b', 'Hu.CD8', 'Hu.CD81', 'Hu.CD82', 'Hu.CD83', 'Hu.CD85j', 'Hu.CD86', 'Hu.CD88', 'Hu.CD94', 'Hu.CD95', 'Hu.CD99', 'Hu.CLEC12A', 'Hu.CX3CR1', 'Hu.FceRIa', 'Hu.GPR56', 'Hu.HLA.ABC', 'Hu.HLA.DR', 'Hu.HLA.E', 'Hu.Ig.LightChain.k', 'Hu.Ig.LightChain.l', 'Hu.IgD', 'Hu.IgM', 'Hu.KLRG1', 'Hu.LOX.1', 'Hu.TCR.AB', 'Hu.TCR.Va7.2', 'Hu.TCR.Vd2', 'Hu.TIGIT', 'HuMs.CD44', 'HuMs.CD49f', 'HuMs.integrin.b7', 'HuMsRt.CD278', 'Isotype_HTK888', 'Isotype_MOPC.173', 'Isotype_MOPC.21', 'Isotype_MPC.11', 'Isotype_RTK2071', 'Isotype_RTK2758', 'Isotype_RTK4530', 'CCR7', 'most_likely_hypothesis', 'cluster_feature', 'negative_hypothesis_probability', 'singlet_hypothesis_probability', 'doublet_hypothesis_probability', 'pool', 'log_HA1', 'log_HA2', 'log_HA3', 'log_HA4', 'log_HA5', 'log_HA6', 'log_HA7', 'CD62L', 'CD45RA', 'CXCR3', 'HA8', 'log_HA8', 'ifn_seumois', 'markers_MonozyteClassical', 'markers_MonozytesNon-Classical', 'markers_NK', 'markers_NK_b1', 'markers_NK_b2', 'markers_TCR', 'markers_GammaDeltaTC', 'clone_id', 'clone_id_size', 'clone_size_clipped', 'clone_size', 'clone_size_sample', 'clone_size_donor', 'clonotype_sequence', 'v_genes', 'j_genes', 'has_mait', 'dpt_pseudotime', 'Treg_score', 'CD4 NV/CM_score', 'CD4/CD8_score', 'IFN Response_score', 'Proliferation_score', 'CD8 Cytotoxic_score', 'CD8 Cytokine_score', 'log_LTDEMIAQY', 'log_YTNSFTRGVY', 'log_YLQPRTFLL', 'log_RLQSLQTYV', 'log_VLNDILSRL', 'log_KIADYNYKL', 'log_KCYGVSPTK', 'log_KVFRSSVLH', 'log_RLFRKSNLK', 'log_GTHWFVTQR', 'log_QYIKWPWYI', 'log_NYNYLYRLF', 'log_SPRRARSVA', 'log_FPQSAPHGV', 'log_QPYRVVVL', 'log_IYKTPPIKDF', 'log_TFEYVSQPFLMDLE', 'log_ATDSLNNEY', 'log_CTELKLSDY', 'log_FLRGRAYGL', 'log_RAKFKQLL', 'n_count_dextramer', 'n_max_dextramer', 'max_dextramer', '%_max_dextramer', 'binding_10x', 'binding_ct', 'binding_ct_unmatched', 'clr_Hu.CD8', 'clr_Hu.CD4_RPA.T4', 'has_CD8A', 'has_CD8B', 'has_clr_Hu.CD8', 'has_clr_Hu.CD4_RPA.T4', 'has_CD4', 'has_citeNaN', 'has_cd8Sort', 'has_CD8_joined', 'has_CD4_joined', 'has_NaN_joined', 'has_CD4+8_joined', 'celltype', 'leiden_CD8', 'dpt_pseudotime_wo11', 'clr_Hu.CD101', 'clr_Hu.CD103', 'clr_Hu.CD105_43A3', 'clr_Hu.CD107a', 'clr_Hu.CD112', 'clr_Hu.CD119', 'clr_Hu.CD11a', 'clr_Hu.CD11b', 'clr_Hu.CD11c', 'clr_Hu.CD122', 'clr_Hu.CD123', 'clr_Hu.CD124', 'clr_Hu.CD127', 'clr_Hu.CD13', 'clr_Hu.CD134', 'clr_Hu.CD137', 'clr_Hu.CD141', 'clr_Hu.CD146', 'clr_Hu.CD14_M5E2', 'clr_Hu.CD152', 'clr_Hu.CD154', 'clr_Hu.CD155', 'clr_Hu.CD158', 'clr_Hu.CD158b', 'clr_Hu.CD158e1', 'clr_Hu.CD16', 'clr_Hu.CD161', 'clr_Hu.CD163', 'clr_Hu.CD169', 'clr_Hu.CD18', 'clr_Hu.CD183', 'clr_Hu.CD185', 'clr_Hu.CD19', 'clr_Hu.CD194', 'clr_Hu.CD195', 'clr_Hu.CD196', 'clr_Hu.CD1c', 'clr_Hu.CD1d', 'clr_Hu.CD2', 'clr_Hu.CD20_2H7', 'clr_Hu.CD21', 'clr_Hu.CD22', 'clr_Hu.CD223', 'clr_Hu.CD224', 'clr_Hu.CD226_11A8', 'clr_Hu.CD23', 'clr_Hu.CD24', 'clr_Hu.CD244', 'clr_Hu.CD25', 'clr_Hu.CD26', 'clr_Hu.CD267', 'clr_Hu.CD268', 'clr_Hu.CD27', 'clr_Hu.CD270', 'clr_Hu.CD272', 'clr_Hu.CD274', 'clr_Hu.CD279', 'clr_Hu.CD28', 'clr_Hu.CD29', 'clr_Hu.CD303', 'clr_Hu.CD31', 'clr_Hu.CD314', 'clr_Hu.CD319', 'clr_Hu.CD32', 'clr_Hu.CD328', 'clr_Hu.CD33', 'clr_Hu.CD335', 'clr_Hu.CD35', 'clr_Hu.CD352', 'clr_Hu.CD36', 'clr_Hu.CD38_HIT2', 'clr_Hu.CD39', 'clr_Hu.CD3_UCHT1', 'clr_Hu.CD40', 'clr_Hu.CD41', 'clr_Hu.CD42b', 'clr_Hu.CD45RA', 'clr_Hu.CD45RO', 'clr_Hu.CD45_HI30', 'clr_Hu.CD47', 'clr_Hu.CD48', 'clr_Hu.CD49a', 'clr_Hu.CD49b', 'clr_Hu.CD49d', 'clr_Hu.CD5', 'clr_Hu.CD52', 'clr_Hu.CD54', 'clr_Hu.CD56', 'clr_Hu.CD57', 'clr_Hu.CD58', 'clr_Hu.CD62L', 'clr_Hu.CD62P', 'clr_Hu.CD64', 'clr_Hu.CD69', 'clr_Hu.CD7', 'clr_Hu.CD71', 'clr_Hu.CD73', 'clr_Hu.CD79b', 'clr_Hu.CD81', 'clr_Hu.CD82', 'clr_Hu.CD83', 'clr_Hu.CD85j', 'clr_Hu.CD86', 'clr_Hu.CD88', 'clr_Hu.CD94', 'clr_Hu.CD95', 'clr_Hu.CD99', 'clr_Hu.CLEC12A', 'clr_Hu.CX3CR1', 'clr_Hu.FceRIa', 'clr_Hu.GPR56', 'clr_Hu.HLA.ABC', 'clr_Hu.HLA.DR', 'clr_Hu.HLA.E', 'clr_Hu.Ig.LightChain.k', 'clr_Hu.Ig.LightChain.l', 'clr_Hu.IgD', 'clr_Hu.IgM', 'clr_Hu.KLRG1', 'clr_Hu.LOX.1', 'clr_Hu.TCR.AB', 'clr_Hu.TCR.Va7.2', 'clr_Hu.TCR.Vd2', 'clr_Hu.TIGIT', 'clr_HuMs.CD44', 'clr_HuMs.CD49f', 'clr_HuMs.integrin.b7', 'clr_HuMsRt.CD278', 'clr_Isotype_HTK888', 'clr_Isotype_MOPC.173', 'clr_Isotype_MOPC.21', 'clr_Isotype_MPC.11', 'clr_Isotype_RTK2071', 'clr_Isotype_RTK2758', 'clr_Isotype_RTK4530', 'clr_CCR7', 'clr_CD62L', 'clr_CXCR3', 'clr_CD45RA', 'log_clone_size', 'TCR_mean', 'TCRC_mean', 'is_dex+'\n",
       "    var: 'gene_ids', 'feature_types-0', 'genome-0', 'n_cells-0', 'feature_types-1', 'genome-1', 'highly_variable', 'means', 'dispersions', 'dispersions_norm'\n",
       "    uns: 'binding_10x_colors', 'celltype', 'celltype_colors', 'chain_pairing_colors', 'cite_ids', 'clone_id', 'clone_size_clipped_colors', 'clonotype_sequence_dict', 'custom_cite_ids', 'diffmap_evals', 'epitopes', 'has_CD4+8_joined_colors', 'has_NaN_joined_colors', 'has_ir_colors', 'has_mait_colors', 'hvg', 'ir_dist_aa_identity', 'iroot', 'j_genes_dict', 'leiden_CD8_colors', 'leiden_colors', 'log1p', 'rank_genes_groups', 'rank_genes_groups_CD8', 'rank_genes_groups_leiden_cite', 'v_genes_dict'\n",
       "    obsm: 'X_diffmap', 'X_umap'"
      ]
     },
     "execution_count": 3,
     "metadata": {},
     "output_type": "execute_result"
    }
   ],
   "source": [
    "adata = sc.read_h5ad(\"../datasets/02_dex_annotated_cd8.h5ad\")\n",
    "adata"
   ]
  },
  {
   "cell_type": "code",
   "execution_count": 3,
   "metadata": {},
   "outputs": [],
   "source": [
    "# selected_patients = ['A01', 'A15']\n",
    "# adata = adata[adata.obs['donor'].isin(selected_patients)].copy()"
   ]
  },
  {
   "cell_type": "code",
   "execution_count": 4,
   "metadata": {},
   "outputs": [
    {
     "name": "stdout",
     "output_type": "stream",
     "text": [
      "[[2.4700055 0.        0.        0.        0.        0.        0.\n",
      "  1.3098526 0.       ]\n",
      " [0.        0.        0.        0.        0.        0.        0.\n",
      "  0.        0.       ]\n",
      " [3.1313903 0.        0.        0.        0.        0.        0.\n",
      "  0.        0.       ]\n",
      " [0.        0.        0.        0.        0.        0.        0.\n",
      "  0.        0.       ]]\n",
      "WARNING: adata.X seems to be already log-transformed.\n",
      "[[2.417449  0.        0.        0.        0.        0.        0.\n",
      "  1.8591411 0.       ]\n",
      " [0.        0.        0.        0.        0.        0.        0.\n",
      "  0.        0.       ]\n",
      " [2.4150453 0.        0.        0.        0.        0.        0.\n",
      "  0.        0.       ]\n",
      " [0.        0.        0.        0.        0.        0.        0.\n",
      "  0.        0.       ]]\n"
     ]
    }
   ],
   "source": [
    "print(adata.X[0:4,11:20].toarray())\n",
    "sc.pp.normalize_total(adata, target_sum=1e4)\n",
    "sc.pp.log1p(adata)\n",
    "print(adata.X[0:4,11:20].toarray())"
   ]
  },
  {
   "cell_type": "code",
   "execution_count": 5,
   "metadata": {},
   "outputs": [
    {
     "name": "stdout",
     "output_type": "stream",
     "text": [
      "Shape before:  (53907, 18471)\n",
      "Shape after:  (53907, 5000)\n"
     ]
    }
   ],
   "source": [
    "print('Shape before: ', adata.shape)\n",
    "sc.pp.highly_variable_genes(adata, n_top_genes=5000)\n",
    "adata = adata[:, adata.var['highly_variable']]\n",
    "print('Shape after: ', adata.shape)"
   ]
  },
  {
   "cell_type": "code",
   "execution_count": 6,
   "metadata": {},
   "outputs": [
    {
     "name": "stdout",
     "output_type": "stream",
     "text": [
      "WARNING: Non-standard locus name: None \n"
     ]
    },
    {
     "name": "stderr",
     "output_type": "stream",
     "text": [
      "/Users/tristanaretz/mambaforge/envs/vaccineSimulator/lib/python3.10/site-packages/anndata/utils.py:334: ExperimentalFeatureWarning: Support for Awkward Arrays is currently experimental. Behavior may change in the future. Please report any issues you may encounter!\n",
      "  warnings.warn(msg, category, stacklevel=stacklevel)\n",
      "/Users/tristanaretz/mambaforge/envs/vaccineSimulator/lib/python3.10/site-packages/scirpy/io/_legacy.py:39: ImplicitModificationWarning: Setting element `.obsm['airr']` of view, initializing view as actual.\n",
      "  adata.obsm[\"airr\"] = tmp_adata.obsm[\"airr\"]\n"
     ]
    }
   ],
   "source": [
    "ir.io.upgrade_schema(adata)"
   ]
  },
  {
   "cell_type": "code",
   "execution_count": 7,
   "metadata": {},
   "outputs": [
    {
     "name": "stderr",
     "output_type": "stream",
     "text": [
      "100%|██████████| 11/11 [00:03<00:00,  3.23it/s]\n"
     ]
    }
   ],
   "source": [
    "ir.pp.index_chains(adata)"
   ]
  },
  {
   "cell_type": "code",
   "execution_count": 8,
   "metadata": {},
   "outputs": [
    {
     "data": {
      "text/html": [
       "<pre>[[{c_call: &#x27;TRAC&#x27;, consensus_count: 396, d_call: None, d_cigar: ..., ...}, ...],\n",
       " [{c_call: &#x27;TRAC&#x27;, consensus_count: 6.16e+03, d_call: None, ...}, ..., {...}],\n",
       " [{c_call: &#x27;TRAC&#x27;, consensus_count: 5.51e+03, d_call: None, ...}, ..., {...}],\n",
       " [{c_call: &#x27;TRAC&#x27;, consensus_count: 4.26e+03, d_call: None, ...}, ..., {...}],\n",
       " [{c_call: &#x27;TRAC&#x27;, consensus_count: 680, d_call: None, d_cigar: ..., ...}, ...],\n",
       " [{c_call: &#x27;TRAC&#x27;, consensus_count: 1.48e+04, d_call: None, ...}, ..., {...}],\n",
       " [{c_call: &#x27;TRAC&#x27;, consensus_count: 4.93e+03, d_call: None, ...}, ..., {...}],\n",
       " [{c_call: &#x27;TRAC&#x27;, consensus_count: 4.98e+03, d_call: None, ...}, ..., {...}],\n",
       " [{c_call: &#x27;TRAC&#x27;, consensus_count: 1.93e+04, d_call: None, ...}, ..., {...}],\n",
       " [{c_call: &#x27;TRAC&#x27;, consensus_count: 3.22e+03, d_call: None, ...}, ..., {...}],\n",
       " ...,\n",
       " [{c_call: &#x27;TRAC&#x27;, consensus_count: 2.07e+03, d_call: None, ...}, ..., {...}],\n",
       " [{c_call: &#x27;TRAC&#x27;, consensus_count: 3.55e+03, d_call: None, ...}, ..., {...}],\n",
       " [{c_call: &#x27;TRAC&#x27;, consensus_count: 1.84e+03, d_call: None, ...}, ..., {...}],\n",
       " [{c_call: &#x27;TRAC&#x27;, consensus_count: 2.03e+03, d_call: None, ...}, ..., {...}],\n",
       " [{c_call: &#x27;TRAC&#x27;, consensus_count: 3.45e+03, d_call: None, ...}, ..., {...}],\n",
       " [{c_call: &#x27;TRAC&#x27;, consensus_count: 892, d_call: None, d_cigar: ..., ...}, ...],\n",
       " [{c_call: &#x27;TRAC&#x27;, consensus_count: 1.19e+03, d_call: None, ...}, ..., {...}],\n",
       " [{c_call: &#x27;TRAC&#x27;, consensus_count: 884, d_call: None, d_cigar: ..., ...}, ...],\n",
       " [{c_call: &#x27;TRAC&#x27;, consensus_count: 4.79e+03, d_call: None, ...}, ..., {...}]]\n",
       "--------------------------------------------------------------------------------\n",
       "type: 53907 * var * {\n",
       "    c_call: ?string,\n",
       "    consensus_count: ?float64,\n",
       "    d_call: ?string,\n",
       "    d_cigar: ?unknown,\n",
       "    duplicate_count: ?float64,\n",
       "    germline_alignment: ?unknown,\n",
       "    j_call: ?string,\n",
       "    j_cigar: ?unknown,\n",
       "    junction: ?string,\n",
       "    junction_aa: ?string,\n",
       "    locus: ?string,\n",
       "    productive: bool,\n",
       "    rev_comp: ?unknown,\n",
       "    sequence: ?unknown,\n",
       "    sequence_alignment: ?unknown,\n",
       "    sequence_id: ?unknown,\n",
       "    v_call: ?string,\n",
       "    v_cigar: ?unknown\n",
       "}</pre>"
      ],
      "text/plain": [
       "<Array [[{c_call: 'TRAC', ...}, ...], ...] type='53907 * var * {c_call: ?st...'>"
      ]
     },
     "execution_count": 8,
     "metadata": {},
     "output_type": "execute_result"
    }
   ],
   "source": [
    "adata.obsm['airr']"
   ]
  },
  {
   "cell_type": "code",
   "execution_count": 9,
   "metadata": {},
   "outputs": [
    {
     "name": "stdout",
     "output_type": "stream",
     "text": [
      "53907\n",
      "44310\n"
     ]
    }
   ],
   "source": [
    "print(len(adata))\n",
    "junction_aa = ir.get.airr(adata, \"junction_aa\")\n",
    "adata = adata[~(junction_aa['VJ_1_junction_aa'].isna() | junction_aa['VDJ_1_junction_aa'].isna())]\n",
    "print(len(adata))"
   ]
  },
  {
   "cell_type": "code",
   "execution_count": 25,
   "metadata": {},
   "outputs": [],
   "source": [
    "from mvtcr.utils_preprocessing import Preprocessing"
   ]
  },
  {
   "cell_type": "code",
   "execution_count": 26,
   "metadata": {},
   "outputs": [
    {
     "data": {
      "text/plain": [
       "AnnData object with n_obs × n_vars = 44310 × 5000\n",
       "    obs: '%_max_dextramer', 'ATDSLNNEY', 'C0251_A02', 'C0251_A08', 'C0252_A03', 'C0252_A04', 'C0253_A04', 'C0253_A05', 'C0254_A05', 'C0254_A11', 'C0255_A06', 'C0255_A15', 'C0256_A11', 'C0256_A29', 'C0257_A15', 'C0257_A19', 'C0258_A25', 'C0258_A29', 'CCR7', 'CD4 NV/CM_score', 'CD4/CD8_score', 'CD45RA', 'CD62L', 'CD8 Cytokine_score', 'CD8 Cytotoxic_score', 'CTELKLSDY', 'CXCR3', 'FLRGRAYGL', 'FPQSAPHGV', 'GTHWFVTQR', 'HA1', 'HA2', 'HA3', 'HA4', 'HA5', 'HA6', 'HA7', 'HA8', 'Hu.CD101', 'Hu.CD103', 'Hu.CD105_43A3', 'Hu.CD107a', 'Hu.CD112', 'Hu.CD119', 'Hu.CD11a', 'Hu.CD11b', 'Hu.CD11c', 'Hu.CD122', 'Hu.CD123', 'Hu.CD124', 'Hu.CD127', 'Hu.CD13', 'Hu.CD134', 'Hu.CD137', 'Hu.CD141', 'Hu.CD146', 'Hu.CD14_M5E2', 'Hu.CD152', 'Hu.CD154', 'Hu.CD155', 'Hu.CD158', 'Hu.CD158b', 'Hu.CD158e1', 'Hu.CD16', 'Hu.CD161', 'Hu.CD163', 'Hu.CD169', 'Hu.CD18', 'Hu.CD183', 'Hu.CD185', 'Hu.CD19', 'Hu.CD194', 'Hu.CD195', 'Hu.CD196', 'Hu.CD1c', 'Hu.CD1d', 'Hu.CD2', 'Hu.CD20_2H7', 'Hu.CD21', 'Hu.CD22', 'Hu.CD223', 'Hu.CD224', 'Hu.CD226_11A8', 'Hu.CD23', 'Hu.CD24', 'Hu.CD244', 'Hu.CD25', 'Hu.CD26', 'Hu.CD267', 'Hu.CD268', 'Hu.CD27', 'Hu.CD270', 'Hu.CD272', 'Hu.CD274', 'Hu.CD279', 'Hu.CD28', 'Hu.CD29', 'Hu.CD303', 'Hu.CD31', 'Hu.CD314', 'Hu.CD319', 'Hu.CD32', 'Hu.CD328', 'Hu.CD33', 'Hu.CD335', 'Hu.CD35', 'Hu.CD352', 'Hu.CD36', 'Hu.CD38_HIT2', 'Hu.CD39', 'Hu.CD3_UCHT1', 'Hu.CD40', 'Hu.CD41', 'Hu.CD42b', 'Hu.CD45RA', 'Hu.CD45RO', 'Hu.CD45_HI30', 'Hu.CD47', 'Hu.CD48', 'Hu.CD49a', 'Hu.CD49b', 'Hu.CD49d', 'Hu.CD4_RPA.T4', 'Hu.CD5', 'Hu.CD52', 'Hu.CD54', 'Hu.CD56', 'Hu.CD57', 'Hu.CD58', 'Hu.CD62L', 'Hu.CD62P', 'Hu.CD64', 'Hu.CD69', 'Hu.CD7', 'Hu.CD71', 'Hu.CD73', 'Hu.CD79b', 'Hu.CD8', 'Hu.CD81', 'Hu.CD82', 'Hu.CD83', 'Hu.CD85j', 'Hu.CD86', 'Hu.CD88', 'Hu.CD94', 'Hu.CD95', 'Hu.CD99', 'Hu.CLEC12A', 'Hu.CX3CR1', 'Hu.FceRIa', 'Hu.GPR56', 'Hu.HLA.ABC', 'Hu.HLA.DR', 'Hu.HLA.E', 'Hu.Ig.LightChain.k', 'Hu.Ig.LightChain.l', 'Hu.IgD', 'Hu.IgM', 'Hu.KLRG1', 'Hu.LOX.1', 'Hu.TCR.AB', 'Hu.TCR.Va7.2', 'Hu.TCR.Vd2', 'Hu.TIGIT', 'HuMs.CD44', 'HuMs.CD49f', 'HuMs.integrin.b7', 'HuMsRt.CD278', 'IFN Response_score', 'IYKTPPIKDF', 'Isotype_HTK888', 'Isotype_MOPC.173', 'Isotype_MOPC.21', 'Isotype_MPC.11', 'Isotype_RTK2071', 'Isotype_RTK2758', 'Isotype_RTK4530', 'KCYGVSPTK', 'KIADYNYKL', 'KVFRSSVLH', 'LTDEMIAQY', 'NYNYLYRLF', 'Proliferation_score', 'QPYRVVVL', 'QYIKWPWYI', 'RAKFKQLL', 'RLFRKSNLK', 'RLQSLQTYV', 'SPRRARSVA', 'TCRC_mean', 'TCR_mean', 'TFEYVSQPFLMDLE', 'Treg_score', 'VLNDILSRL', 'YLQPRTFLL', 'YTNSFTRGVY', 'batch', 'binding_10x', 'binding_ct', 'binding_ct_unmatched', 'celltype', 'chain_pairing', 'clone_id', 'clone_id_size', 'clone_size', 'clone_size_clipped', 'clone_size_donor', 'clone_size_sample', 'clonotype_sequence', 'clr_CCR7', 'clr_CD45RA', 'clr_CD62L', 'clr_CXCR3', 'clr_Hu.CD101', 'clr_Hu.CD103', 'clr_Hu.CD105_43A3', 'clr_Hu.CD107a', 'clr_Hu.CD112', 'clr_Hu.CD119', 'clr_Hu.CD11a', 'clr_Hu.CD11b', 'clr_Hu.CD11c', 'clr_Hu.CD122', 'clr_Hu.CD123', 'clr_Hu.CD124', 'clr_Hu.CD127', 'clr_Hu.CD13', 'clr_Hu.CD134', 'clr_Hu.CD137', 'clr_Hu.CD141', 'clr_Hu.CD146', 'clr_Hu.CD14_M5E2', 'clr_Hu.CD152', 'clr_Hu.CD154', 'clr_Hu.CD155', 'clr_Hu.CD158', 'clr_Hu.CD158b', 'clr_Hu.CD158e1', 'clr_Hu.CD16', 'clr_Hu.CD161', 'clr_Hu.CD163', 'clr_Hu.CD169', 'clr_Hu.CD18', 'clr_Hu.CD183', 'clr_Hu.CD185', 'clr_Hu.CD19', 'clr_Hu.CD194', 'clr_Hu.CD195', 'clr_Hu.CD196', 'clr_Hu.CD1c', 'clr_Hu.CD1d', 'clr_Hu.CD2', 'clr_Hu.CD20_2H7', 'clr_Hu.CD21', 'clr_Hu.CD22', 'clr_Hu.CD223', 'clr_Hu.CD224', 'clr_Hu.CD226_11A8', 'clr_Hu.CD23', 'clr_Hu.CD24', 'clr_Hu.CD244', 'clr_Hu.CD25', 'clr_Hu.CD26', 'clr_Hu.CD267', 'clr_Hu.CD268', 'clr_Hu.CD27', 'clr_Hu.CD270', 'clr_Hu.CD272', 'clr_Hu.CD274', 'clr_Hu.CD279', 'clr_Hu.CD28', 'clr_Hu.CD29', 'clr_Hu.CD303', 'clr_Hu.CD31', 'clr_Hu.CD314', 'clr_Hu.CD319', 'clr_Hu.CD32', 'clr_Hu.CD328', 'clr_Hu.CD33', 'clr_Hu.CD335', 'clr_Hu.CD35', 'clr_Hu.CD352', 'clr_Hu.CD36', 'clr_Hu.CD38_HIT2', 'clr_Hu.CD39', 'clr_Hu.CD3_UCHT1', 'clr_Hu.CD40', 'clr_Hu.CD41', 'clr_Hu.CD42b', 'clr_Hu.CD45RA', 'clr_Hu.CD45RO', 'clr_Hu.CD45_HI30', 'clr_Hu.CD47', 'clr_Hu.CD48', 'clr_Hu.CD49a', 'clr_Hu.CD49b', 'clr_Hu.CD49d', 'clr_Hu.CD4_RPA.T4', 'clr_Hu.CD5', 'clr_Hu.CD52', 'clr_Hu.CD54', 'clr_Hu.CD56', 'clr_Hu.CD57', 'clr_Hu.CD58', 'clr_Hu.CD62L', 'clr_Hu.CD62P', 'clr_Hu.CD64', 'clr_Hu.CD69', 'clr_Hu.CD7', 'clr_Hu.CD71', 'clr_Hu.CD73', 'clr_Hu.CD79b', 'clr_Hu.CD8', 'clr_Hu.CD81', 'clr_Hu.CD82', 'clr_Hu.CD83', 'clr_Hu.CD85j', 'clr_Hu.CD86', 'clr_Hu.CD88', 'clr_Hu.CD94', 'clr_Hu.CD95', 'clr_Hu.CD99', 'clr_Hu.CLEC12A', 'clr_Hu.CX3CR1', 'clr_Hu.FceRIa', 'clr_Hu.GPR56', 'clr_Hu.HLA.ABC', 'clr_Hu.HLA.DR', 'clr_Hu.HLA.E', 'clr_Hu.Ig.LightChain.k', 'clr_Hu.Ig.LightChain.l', 'clr_Hu.IgD', 'clr_Hu.IgM', 'clr_Hu.KLRG1', 'clr_Hu.LOX.1', 'clr_Hu.TCR.AB', 'clr_Hu.TCR.Va7.2', 'clr_Hu.TCR.Vd2', 'clr_Hu.TIGIT', 'clr_HuMs.CD44', 'clr_HuMs.CD49f', 'clr_HuMs.integrin.b7', 'clr_HuMsRt.CD278', 'clr_Isotype_HTK888', 'clr_Isotype_MOPC.173', 'clr_Isotype_MOPC.21', 'clr_Isotype_MPC.11', 'clr_Isotype_RTK2071', 'clr_Isotype_RTK2758', 'clr_Isotype_RTK4530', 'cluster_feature', 'donor', 'doublet_hypothesis_probability', 'dpt_pseudotime', 'dpt_pseudotime_wo11', 'experiment', 'has_CD4', 'has_CD4+8_joined', 'has_CD4_joined', 'has_CD8A', 'has_CD8B', 'has_CD8_joined', 'has_NaN_joined', 'has_cd8Sort', 'has_citeNaN', 'has_clr_Hu.CD4_RPA.T4', 'has_clr_Hu.CD8', 'has_mait', 'high_confidence', 'ifn_seumois', 'is_cell', 'is_dex+', 'j_genes', 'leiden_CD8', 'log_ATDSLNNEY', 'log_CTELKLSDY', 'log_FLRGRAYGL', 'log_FPQSAPHGV', 'log_GTHWFVTQR', 'log_HA1', 'log_HA2', 'log_HA3', 'log_HA4', 'log_HA5', 'log_HA6', 'log_HA7', 'log_HA8', 'log_IYKTPPIKDF', 'log_KCYGVSPTK', 'log_KIADYNYKL', 'log_KVFRSSVLH', 'log_LTDEMIAQY', 'log_NYNYLYRLF', 'log_QPYRVVVL', 'log_QYIKWPWYI', 'log_RAKFKQLL', 'log_RLFRKSNLK', 'log_RLQSLQTYV', 'log_SPRRARSVA', 'log_TFEYVSQPFLMDLE', 'log_VLNDILSRL', 'log_YLQPRTFLL', 'log_YTNSFTRGVY', 'log_clone_size', 'log_counts', 'log_genes', 'markers_GammaDeltaTC', 'markers_MonozyteClassical', 'markers_MonozytesNon-Classical', 'markers_NK', 'markers_NK_b1', 'markers_NK_b2', 'markers_TCR', 'max_dextramer', 'most_likely_hypothesis', 'mt_frac', 'multi_chain', 'n_count_dextramer', 'n_counts', 'n_genes', 'n_max_dextramer', 'negative_hypothesis_probability', 'pool', 'receptor_subtype', 'receptor_type', 'sample', 'singlet_hypothesis_probability', 'time', 'v_genes', 'clonotype', 'clonotype_size', 'alpha_len', 'beta_len'\n",
       "    var: 'gene_ids', 'feature_types-0', 'genome-0', 'n_cells-0', 'feature_types-1', 'genome-1', 'highly_variable', 'means', 'dispersions', 'dispersions_norm'\n",
       "    uns: 'binding_10x_colors', 'celltype', 'celltype_colors', 'chain_pairing_colors', 'cite_ids', 'clone_id', 'clone_size_clipped_colors', 'clonotype_sequence_dict', 'custom_cite_ids', 'diffmap_evals', 'epitopes', 'has_CD4+8_joined_colors', 'has_NaN_joined_colors', 'has_ir_colors', 'has_mait_colors', 'hvg', 'ir_dist_aa_identity', 'iroot', 'j_genes_dict', 'leiden_CD8_colors', 'leiden_colors', 'log1p', 'rank_genes_groups', 'rank_genes_groups_CD8', 'rank_genes_groups_leiden_cite', 'v_genes_dict', 'scirpy_version', 'chain_indices', 'ir_dist_nt_identity', 'clonotype', 'aa_to_id', 'sample_enc', 'donor_enc'\n",
       "    obsm: 'X_diffmap', 'X_umap', 'airr', 'chain_indices', 'alpha_seq', 'beta_seq', 'sample_ohe', 'donor_ohe'"
      ]
     },
     "execution_count": 26,
     "metadata": {},
     "output_type": "execute_result"
    }
   ],
   "source": [
    "adata"
   ]
  },
  {
   "cell_type": "code",
   "execution_count": 27,
   "metadata": {},
   "outputs": [
    {
     "name": "stderr",
     "output_type": "stream",
     "text": [
      "WARNING:root:Only highly-variable genes found in data. Make sure they are properly normalized before proceeding!\n",
      "100%|██████████| 13715/13715 [00:07<00:00, 1921.46it/s]\n"
     ]
    }
   ],
   "source": [
    "Preprocessing.preprocessing_pipeline(adata, \n",
    "                                     clonotype_key_added='clonotype', \n",
    "                                     airr_name='junction_aa',\n",
    "                                     cond_vars=['donor'])"
   ]
  },
  {
   "cell_type": "code",
   "execution_count": 28,
   "metadata": {},
   "outputs": [
    {
     "data": {
      "text/plain": [
       "AnnData object with n_obs × n_vars = 44310 × 5000\n",
       "    obs: '%_max_dextramer', 'ATDSLNNEY', 'C0251_A02', 'C0251_A08', 'C0252_A03', 'C0252_A04', 'C0253_A04', 'C0253_A05', 'C0254_A05', 'C0254_A11', 'C0255_A06', 'C0255_A15', 'C0256_A11', 'C0256_A29', 'C0257_A15', 'C0257_A19', 'C0258_A25', 'C0258_A29', 'CCR7', 'CD4 NV/CM_score', 'CD4/CD8_score', 'CD45RA', 'CD62L', 'CD8 Cytokine_score', 'CD8 Cytotoxic_score', 'CTELKLSDY', 'CXCR3', 'FLRGRAYGL', 'FPQSAPHGV', 'GTHWFVTQR', 'HA1', 'HA2', 'HA3', 'HA4', 'HA5', 'HA6', 'HA7', 'HA8', 'Hu.CD101', 'Hu.CD103', 'Hu.CD105_43A3', 'Hu.CD107a', 'Hu.CD112', 'Hu.CD119', 'Hu.CD11a', 'Hu.CD11b', 'Hu.CD11c', 'Hu.CD122', 'Hu.CD123', 'Hu.CD124', 'Hu.CD127', 'Hu.CD13', 'Hu.CD134', 'Hu.CD137', 'Hu.CD141', 'Hu.CD146', 'Hu.CD14_M5E2', 'Hu.CD152', 'Hu.CD154', 'Hu.CD155', 'Hu.CD158', 'Hu.CD158b', 'Hu.CD158e1', 'Hu.CD16', 'Hu.CD161', 'Hu.CD163', 'Hu.CD169', 'Hu.CD18', 'Hu.CD183', 'Hu.CD185', 'Hu.CD19', 'Hu.CD194', 'Hu.CD195', 'Hu.CD196', 'Hu.CD1c', 'Hu.CD1d', 'Hu.CD2', 'Hu.CD20_2H7', 'Hu.CD21', 'Hu.CD22', 'Hu.CD223', 'Hu.CD224', 'Hu.CD226_11A8', 'Hu.CD23', 'Hu.CD24', 'Hu.CD244', 'Hu.CD25', 'Hu.CD26', 'Hu.CD267', 'Hu.CD268', 'Hu.CD27', 'Hu.CD270', 'Hu.CD272', 'Hu.CD274', 'Hu.CD279', 'Hu.CD28', 'Hu.CD29', 'Hu.CD303', 'Hu.CD31', 'Hu.CD314', 'Hu.CD319', 'Hu.CD32', 'Hu.CD328', 'Hu.CD33', 'Hu.CD335', 'Hu.CD35', 'Hu.CD352', 'Hu.CD36', 'Hu.CD38_HIT2', 'Hu.CD39', 'Hu.CD3_UCHT1', 'Hu.CD40', 'Hu.CD41', 'Hu.CD42b', 'Hu.CD45RA', 'Hu.CD45RO', 'Hu.CD45_HI30', 'Hu.CD47', 'Hu.CD48', 'Hu.CD49a', 'Hu.CD49b', 'Hu.CD49d', 'Hu.CD4_RPA.T4', 'Hu.CD5', 'Hu.CD52', 'Hu.CD54', 'Hu.CD56', 'Hu.CD57', 'Hu.CD58', 'Hu.CD62L', 'Hu.CD62P', 'Hu.CD64', 'Hu.CD69', 'Hu.CD7', 'Hu.CD71', 'Hu.CD73', 'Hu.CD79b', 'Hu.CD8', 'Hu.CD81', 'Hu.CD82', 'Hu.CD83', 'Hu.CD85j', 'Hu.CD86', 'Hu.CD88', 'Hu.CD94', 'Hu.CD95', 'Hu.CD99', 'Hu.CLEC12A', 'Hu.CX3CR1', 'Hu.FceRIa', 'Hu.GPR56', 'Hu.HLA.ABC', 'Hu.HLA.DR', 'Hu.HLA.E', 'Hu.Ig.LightChain.k', 'Hu.Ig.LightChain.l', 'Hu.IgD', 'Hu.IgM', 'Hu.KLRG1', 'Hu.LOX.1', 'Hu.TCR.AB', 'Hu.TCR.Va7.2', 'Hu.TCR.Vd2', 'Hu.TIGIT', 'HuMs.CD44', 'HuMs.CD49f', 'HuMs.integrin.b7', 'HuMsRt.CD278', 'IFN Response_score', 'IYKTPPIKDF', 'Isotype_HTK888', 'Isotype_MOPC.173', 'Isotype_MOPC.21', 'Isotype_MPC.11', 'Isotype_RTK2071', 'Isotype_RTK2758', 'Isotype_RTK4530', 'KCYGVSPTK', 'KIADYNYKL', 'KVFRSSVLH', 'LTDEMIAQY', 'NYNYLYRLF', 'Proliferation_score', 'QPYRVVVL', 'QYIKWPWYI', 'RAKFKQLL', 'RLFRKSNLK', 'RLQSLQTYV', 'SPRRARSVA', 'TCRC_mean', 'TCR_mean', 'TFEYVSQPFLMDLE', 'Treg_score', 'VLNDILSRL', 'YLQPRTFLL', 'YTNSFTRGVY', 'batch', 'binding_10x', 'binding_ct', 'binding_ct_unmatched', 'celltype', 'chain_pairing', 'clone_id', 'clone_id_size', 'clone_size', 'clone_size_clipped', 'clone_size_donor', 'clone_size_sample', 'clonotype_sequence', 'clr_CCR7', 'clr_CD45RA', 'clr_CD62L', 'clr_CXCR3', 'clr_Hu.CD101', 'clr_Hu.CD103', 'clr_Hu.CD105_43A3', 'clr_Hu.CD107a', 'clr_Hu.CD112', 'clr_Hu.CD119', 'clr_Hu.CD11a', 'clr_Hu.CD11b', 'clr_Hu.CD11c', 'clr_Hu.CD122', 'clr_Hu.CD123', 'clr_Hu.CD124', 'clr_Hu.CD127', 'clr_Hu.CD13', 'clr_Hu.CD134', 'clr_Hu.CD137', 'clr_Hu.CD141', 'clr_Hu.CD146', 'clr_Hu.CD14_M5E2', 'clr_Hu.CD152', 'clr_Hu.CD154', 'clr_Hu.CD155', 'clr_Hu.CD158', 'clr_Hu.CD158b', 'clr_Hu.CD158e1', 'clr_Hu.CD16', 'clr_Hu.CD161', 'clr_Hu.CD163', 'clr_Hu.CD169', 'clr_Hu.CD18', 'clr_Hu.CD183', 'clr_Hu.CD185', 'clr_Hu.CD19', 'clr_Hu.CD194', 'clr_Hu.CD195', 'clr_Hu.CD196', 'clr_Hu.CD1c', 'clr_Hu.CD1d', 'clr_Hu.CD2', 'clr_Hu.CD20_2H7', 'clr_Hu.CD21', 'clr_Hu.CD22', 'clr_Hu.CD223', 'clr_Hu.CD224', 'clr_Hu.CD226_11A8', 'clr_Hu.CD23', 'clr_Hu.CD24', 'clr_Hu.CD244', 'clr_Hu.CD25', 'clr_Hu.CD26', 'clr_Hu.CD267', 'clr_Hu.CD268', 'clr_Hu.CD27', 'clr_Hu.CD270', 'clr_Hu.CD272', 'clr_Hu.CD274', 'clr_Hu.CD279', 'clr_Hu.CD28', 'clr_Hu.CD29', 'clr_Hu.CD303', 'clr_Hu.CD31', 'clr_Hu.CD314', 'clr_Hu.CD319', 'clr_Hu.CD32', 'clr_Hu.CD328', 'clr_Hu.CD33', 'clr_Hu.CD335', 'clr_Hu.CD35', 'clr_Hu.CD352', 'clr_Hu.CD36', 'clr_Hu.CD38_HIT2', 'clr_Hu.CD39', 'clr_Hu.CD3_UCHT1', 'clr_Hu.CD40', 'clr_Hu.CD41', 'clr_Hu.CD42b', 'clr_Hu.CD45RA', 'clr_Hu.CD45RO', 'clr_Hu.CD45_HI30', 'clr_Hu.CD47', 'clr_Hu.CD48', 'clr_Hu.CD49a', 'clr_Hu.CD49b', 'clr_Hu.CD49d', 'clr_Hu.CD4_RPA.T4', 'clr_Hu.CD5', 'clr_Hu.CD52', 'clr_Hu.CD54', 'clr_Hu.CD56', 'clr_Hu.CD57', 'clr_Hu.CD58', 'clr_Hu.CD62L', 'clr_Hu.CD62P', 'clr_Hu.CD64', 'clr_Hu.CD69', 'clr_Hu.CD7', 'clr_Hu.CD71', 'clr_Hu.CD73', 'clr_Hu.CD79b', 'clr_Hu.CD8', 'clr_Hu.CD81', 'clr_Hu.CD82', 'clr_Hu.CD83', 'clr_Hu.CD85j', 'clr_Hu.CD86', 'clr_Hu.CD88', 'clr_Hu.CD94', 'clr_Hu.CD95', 'clr_Hu.CD99', 'clr_Hu.CLEC12A', 'clr_Hu.CX3CR1', 'clr_Hu.FceRIa', 'clr_Hu.GPR56', 'clr_Hu.HLA.ABC', 'clr_Hu.HLA.DR', 'clr_Hu.HLA.E', 'clr_Hu.Ig.LightChain.k', 'clr_Hu.Ig.LightChain.l', 'clr_Hu.IgD', 'clr_Hu.IgM', 'clr_Hu.KLRG1', 'clr_Hu.LOX.1', 'clr_Hu.TCR.AB', 'clr_Hu.TCR.Va7.2', 'clr_Hu.TCR.Vd2', 'clr_Hu.TIGIT', 'clr_HuMs.CD44', 'clr_HuMs.CD49f', 'clr_HuMs.integrin.b7', 'clr_HuMsRt.CD278', 'clr_Isotype_HTK888', 'clr_Isotype_MOPC.173', 'clr_Isotype_MOPC.21', 'clr_Isotype_MPC.11', 'clr_Isotype_RTK2071', 'clr_Isotype_RTK2758', 'clr_Isotype_RTK4530', 'cluster_feature', 'donor', 'doublet_hypothesis_probability', 'dpt_pseudotime', 'dpt_pseudotime_wo11', 'experiment', 'has_CD4', 'has_CD4+8_joined', 'has_CD4_joined', 'has_CD8A', 'has_CD8B', 'has_CD8_joined', 'has_NaN_joined', 'has_cd8Sort', 'has_citeNaN', 'has_clr_Hu.CD4_RPA.T4', 'has_clr_Hu.CD8', 'has_mait', 'high_confidence', 'ifn_seumois', 'is_cell', 'is_dex+', 'j_genes', 'leiden_CD8', 'log_ATDSLNNEY', 'log_CTELKLSDY', 'log_FLRGRAYGL', 'log_FPQSAPHGV', 'log_GTHWFVTQR', 'log_HA1', 'log_HA2', 'log_HA3', 'log_HA4', 'log_HA5', 'log_HA6', 'log_HA7', 'log_HA8', 'log_IYKTPPIKDF', 'log_KCYGVSPTK', 'log_KIADYNYKL', 'log_KVFRSSVLH', 'log_LTDEMIAQY', 'log_NYNYLYRLF', 'log_QPYRVVVL', 'log_QYIKWPWYI', 'log_RAKFKQLL', 'log_RLFRKSNLK', 'log_RLQSLQTYV', 'log_SPRRARSVA', 'log_TFEYVSQPFLMDLE', 'log_VLNDILSRL', 'log_YLQPRTFLL', 'log_YTNSFTRGVY', 'log_clone_size', 'log_counts', 'log_genes', 'markers_GammaDeltaTC', 'markers_MonozyteClassical', 'markers_MonozytesNon-Classical', 'markers_NK', 'markers_NK_b1', 'markers_NK_b2', 'markers_TCR', 'max_dextramer', 'most_likely_hypothesis', 'mt_frac', 'multi_chain', 'n_count_dextramer', 'n_counts', 'n_genes', 'n_max_dextramer', 'negative_hypothesis_probability', 'pool', 'receptor_subtype', 'receptor_type', 'sample', 'singlet_hypothesis_probability', 'time', 'v_genes', 'clonotype', 'clonotype_size', 'alpha_len', 'beta_len'\n",
       "    var: 'gene_ids', 'feature_types-0', 'genome-0', 'n_cells-0', 'feature_types-1', 'genome-1', 'highly_variable', 'means', 'dispersions', 'dispersions_norm'\n",
       "    uns: 'binding_10x_colors', 'celltype', 'celltype_colors', 'chain_pairing_colors', 'cite_ids', 'clone_id', 'clone_size_clipped_colors', 'clonotype_sequence_dict', 'custom_cite_ids', 'diffmap_evals', 'epitopes', 'has_CD4+8_joined_colors', 'has_NaN_joined_colors', 'has_ir_colors', 'has_mait_colors', 'hvg', 'ir_dist_aa_identity', 'iroot', 'j_genes_dict', 'leiden_CD8_colors', 'leiden_colors', 'log1p', 'rank_genes_groups', 'rank_genes_groups_CD8', 'rank_genes_groups_leiden_cite', 'v_genes_dict', 'scirpy_version', 'chain_indices', 'ir_dist_nt_identity', 'clonotype', 'aa_to_id', 'sample_enc', 'donor_enc'\n",
       "    obsm: 'X_diffmap', 'X_umap', 'airr', 'chain_indices', 'alpha_seq', 'beta_seq', 'sample_ohe', 'donor_ohe'"
      ]
     },
     "execution_count": 28,
     "metadata": {},
     "output_type": "execute_result"
    }
   ],
   "source": [
    "adata"
   ]
  },
  {
   "cell_type": "code",
   "execution_count": null,
   "metadata": {},
   "outputs": [],
   "source": [
    "# Alternatively group splitting is available by itself with:\n",
    "\n",
    "# train, val = Preprocessing.group_shuffle_split(adata, group_col='clonotype', test_size=0.2, random_seed=42)\n",
    "\n",
    "# adata.obs['set'] = 'train'\n",
    "# adata.obs.loc[val, 'set'] = 'val'\n",
    "\n",
    "# adata.obs[\"set\"].value_counts()"
   ]
  },
  {
   "cell_type": "code",
   "execution_count": 31,
   "metadata": {},
   "outputs": [],
   "source": [
    "path_out = '../datasets/02_dex_annotated_cd8_new.h5ad'\n",
    "adata.write_h5ad(path_out, compression='gzip')"
   ]
  },
  {
   "cell_type": "code",
   "execution_count": null,
   "metadata": {},
   "outputs": [],
   "source": []
  }
 ],
 "metadata": {
  "kernelspec": {
   "display_name": "Python [conda env:vaccineSimulator] *",
   "language": "python",
   "name": "conda-env-vaccineSimulator-py"
  },
  "language_info": {
   "codemirror_mode": {
    "name": "ipython",
    "version": 3
   },
   "file_extension": ".py",
   "mimetype": "text/x-python",
   "name": "python",
   "nbconvert_exporter": "python",
   "pygments_lexer": "ipython3",
   "version": "3.10.16"
  }
 },
 "nbformat": 4,
 "nbformat_minor": 2
}
